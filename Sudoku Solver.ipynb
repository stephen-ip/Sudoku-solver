{
  "nbformat": 4,
  "nbformat_minor": 0,
  "metadata": {
    "kernelspec": {
      "display_name": "Python 3",
      "language": "python",
      "name": "python3"
    },
    "language_info": {
      "codemirror_mode": {
        "name": "ipython",
        "version": 3
      },
      "file_extension": ".py",
      "mimetype": "text/x-python",
      "name": "python",
      "nbconvert_exporter": "python",
      "pygments_lexer": "ipython3",
      "version": "3.7.4"
    },
    "colab": {
      "name": "Copy of Assignment_14.ipynb",
      "provenance": []
    }
  },
  "cells": [
    {
      "cell_type": "markdown",
      "metadata": {
        "deletable": false,
        "editable": false,
        "nbgrader": {
          "cell_type": "markdown",
          "checksum": "357bb3cdb8d53d779c1f1daf8cace60b",
          "grade": false,
          "grade_id": "cell-b44ee0dadd9651a3",
          "locked": true,
          "schema_version": 3,
          "solution": false,
          "task": false
        },
        "id": "l4q-nTdkc5Ui"
      },
      "source": [
        "# Assignment 14: Sudoku\n",
        "\n",
        "_This notebook is a derivative work of [\"Sudoku\"](https://colab.research.google.com/drive/1HXsCrHp8HqHJPF9RR1ZcfG7ehr_qP8e5) by [Luca de Alfaro](https://sites.google.com/a/ucsc.edu/luca/home), which is licensed under [CC BY-NC-ND 4.0](https://creativecommons.org/licenses/by-nc-nd/4.0/), distributed by permission of the original author.  This notebook is licensed under [CC BY-NC-ND 4.0](https://creativecommons.org/licenses/by-nc-nd/4.0/) by [Peter Alvaro](https://users.soe.ucsc.edu/~palvaro/) and [Lindsey Kuper](https://users.soe.ucsc.edu/~lkuper/)._"
      ]
    },
    {
      "cell_type": "markdown",
      "metadata": {
        "deletable": false,
        "editable": false,
        "nbgrader": {
          "cell_type": "markdown",
          "checksum": "bf49bb663fb2ba469377593c6774f2ad",
          "grade": false,
          "grade_id": "cell-a291ae30ee27c6d1",
          "locked": true,
          "schema_version": 3,
          "solution": false,
          "task": false
        },
        "id": "zfdEkbvQc5Um"
      },
      "source": [
        "# Instructions\n",
        "\n",
        "## Notebook Format\n",
        "\n",
        "This is a homework notebook.  It consists of various types of cells: \n",
        "\n",
        "* Text cells: you should read them!\n",
        "* Code cells: you should run them, as they may set up the problems that you are asked to solve.\n",
        "* **Solution** cells: These are cells where you should enter a solution.  You will see a marker in these cells that indicates where your work should be inserted:  \n",
        "\n",
        "```\n",
        "    # YOUR CODE HERE\n",
        "```    \n",
        "\n",
        "* Test cells: These cells contain some tests, and are worth some points.  You should run the cells as a way to debug your code, and to see if you understood the question, and whether the output of your code is produced in the correct format.\n",
        "\n",
        "**When we grade your notebook, we will run many additional tests in addition to the ones you see here.  (Otherwise, you'd be able to get full credit by hard-coding the desired output!)**"
      ]
    },
    {
      "cell_type": "markdown",
      "metadata": {
        "deletable": false,
        "editable": false,
        "nbgrader": {
          "cell_type": "markdown",
          "checksum": "5d04cff783fea508c4bb5a061af1fdbc",
          "grade": false,
          "grade_id": "cell-808182f3646b5227",
          "locked": true,
          "schema_version": 3,
          "solution": false,
          "task": false
        },
        "id": "0XUKhabbc5Up"
      },
      "source": [
        "## Working on Your Notebook\n",
        "\n",
        "To work on your notebook, we recommend using Colab.  Working in Colab has many benefits:\n",
        "\n",
        "  * You don't have to maintain a working Python environment on your own machine; you can work from any machine that has an internet connection.\n",
        "  * Colab preserves the revision history, which is useful for many reasons.\n",
        "  * Your work is automatically saved in Google Drive.\n",
        "  \n",
        "In Colab, go to \"File > Save a copy in Drive...\" and then you'll have your own copy to work on."
      ]
    },
    {
      "cell_type": "markdown",
      "metadata": {
        "deletable": false,
        "editable": false,
        "nbgrader": {
          "cell_type": "markdown",
          "checksum": "e5bcc5b829876f8b07167352d45fa595",
          "grade": false,
          "grade_id": "cell-3e9f55e5e7150dd1",
          "locked": true,
          "schema_version": 3,
          "solution": false,
          "task": false
        },
        "id": "37NLn_OEc5Us"
      },
      "source": [
        "## Submitting Your Notebook\n",
        "\n",
        "Before you turn your finished notebook in, it's a good idea to sure everything runs as expected. First, **factory reset the runtime** in Colab (go to \"Runtime > Factory reset runtime\").  Then, **run all the cells** (go to \"Runtime > Run all\") in Colab.\n",
        "\n",
        "(A word of caution: when you use \"Run all\", Colab tries to run cells in parallel, which can get you into trouble if later cells run before earlier ones on which they depend.  So, you might instead want to run all the cells sequentially yourself after resetting the runtime.  You can start at the top of the notebook, hold down the Shift key, and press Enter repeatedly to run one cell after another in order.)\n",
        "\n",
        "Submit your work as follows: \n",
        "\n",
        "  * Download the notebook from Colab, clicking on \"File > Download .ipynb\".\n",
        "  * Upload the resulting file to [this Google form](https://forms.gle/wj8QF8dcad2oxnLR6).\n",
        "  * **Deadline: 9pm Wednesday, March 18.**\n",
        "\n",
        "You can submit multiple times, and the last submission before the deadline will be used to assign you a grade.\n",
        "\n",
        "Make sure you fill in any place that says `YOUR CODE HERE` or \"YOUR ANSWER HERE\", as well as your name and the names of anyone you collaborated with in the below cells.  For collaborators, list anyone who (for example) discussed the general techniques involved with you, or pointed you to useful Python documentation -- collaboration of that kind is encouraged.  Remember that sharing code or using others' code is not allowed."
      ]
    },
    {
      "cell_type": "code",
      "metadata": {
        "id": "_fJvtlrnc5Uu"
      },
      "source": [
        "NAME = \"Stephen Ip\"\n",
        "COLLABORATORS = \"\""
      ],
      "execution_count": null,
      "outputs": []
    },
    {
      "cell_type": "markdown",
      "metadata": {
        "deletable": false,
        "editable": false,
        "nbgrader": {
          "cell_type": "markdown",
          "checksum": "49b1cd350e66cac9491f825a30f4c5d8",
          "grade": false,
          "grade_id": "cell-81647e3ddf669e73",
          "locked": true,
          "schema_version": 3,
          "solution": false,
          "task": false
        },
        "id": "2dix622ic5U7"
      },
      "source": [
        "## What Happens Next? \n",
        "\n",
        "After you submit your notebook, your instructor at some point will retreat to a secret hideout, put on some good music, and run some mysterious scripts.  These will generate two things: \n",
        "\n",
        "  * Your grade, which goes into a spreadsheet. \n",
        "  * Feedback, shared to you as a PDF file on Google Drive.  The PDF shows your work, your grade, the tests that passed and those that failed, and any comments left by the instructor and the TAs."
      ]
    },
    {
      "cell_type": "markdown",
      "metadata": {
        "deletable": false,
        "editable": false,
        "nbgrader": {
          "cell_type": "markdown",
          "checksum": "31e351a0d55e41f0ea87eb3371a77e79",
          "grade": false,
          "grade_id": "cell-91a11abe88b90aa1",
          "locked": true,
          "schema_version": 3,
          "solution": false,
          "task": false
        },
        "id": "CWl0m9_qc5VE"
      },
      "source": [
        "# Testing\n",
        "\n",
        "Make sure to run the following cell to make sure that the Python testing framework, `nose`, is installed.  (It's required for the rest of the notebook to work.)"
      ]
    },
    {
      "cell_type": "code",
      "metadata": {
        "deletable": false,
        "editable": false,
        "nbgrader": {
          "cell_type": "code",
          "checksum": "7030c98c465631b1ee8fa754208a11e2",
          "grade": false,
          "grade_id": "cell-06f8f2f7ebf1e3c1",
          "locked": true,
          "schema_version": 3,
          "solution": false,
          "task": false
        },
        "id": "dUgl_xLGc5VH"
      },
      "source": [
        "try:\n",
        "    from nose.tools import assert_equal, assert_almost_equal\n",
        "    from nose.tools import assert_true, assert_false\n",
        "    from nose.tools import assert_not_equal, assert_greater_equal\n",
        "except:\n",
        "    !pip install nose\n",
        "    from nose.tools import assert_equal, assert_almost_equal\n",
        "    from nose.tools import assert_true, assert_false\n",
        "    from nose.tools import assert_not_equal, assert_greater_equal"
      ],
      "execution_count": null,
      "outputs": []
    },
    {
      "cell_type": "markdown",
      "metadata": {
        "deletable": false,
        "editable": false,
        "nbgrader": {
          "cell_type": "markdown",
          "checksum": "f54ac1cf560ea85eaa9a9e50777a4b26",
          "grade": false,
          "grade_id": "cell-2b63bcdac8177dc3",
          "locked": true,
          "schema_version": 3,
          "solution": false,
          "task": false
        },
        "id": "me3zg1mEc5VN"
      },
      "source": [
        "## Sudoku\n",
        "\n",
        "During [lecture](https://colab.research.google.com/drive/1PtWLOBwItfCApTC0WdWxwjDD8RwJQUzq), we saw how by combining *constraint propagation* and *search*, we can implement an efficient solver for Sudoku puzzles.  Below, we reiterate the code we saw during lecture."
      ]
    },
    {
      "cell_type": "code",
      "metadata": {
        "deletable": false,
        "editable": false,
        "nbgrader": {
          "cell_type": "code",
          "checksum": "86992e741da7602418e4e06eeca495d3",
          "grade": false,
          "grade_id": "cell-b6064af0b3a1cfe4",
          "locked": true,
          "schema_version": 3,
          "solution": false,
          "task": false
        },
        "id": "Q6IdJzJoc5VP"
      },
      "source": [
        "def getel(s):\n",
        "    \"\"\"Returns the unique element in a singleton set (or list).\"\"\"\n",
        "    assert len(s) == 1\n",
        "    return list(s)[0]"
      ],
      "execution_count": null,
      "outputs": []
    },
    {
      "cell_type": "code",
      "metadata": {
        "deletable": false,
        "editable": false,
        "nbgrader": {
          "cell_type": "code",
          "checksum": "e58cb31530f734b32bc959237c45b103",
          "grade": false,
          "grade_id": "cell-0dd702170e2f0788",
          "locked": true,
          "schema_version": 3,
          "solution": false,
          "task": false
        },
        "id": "wCjTIS1yc5VX"
      },
      "source": [
        "import json\n",
        "\n",
        "class Sudoku:\n",
        "    \n",
        "    def __init__(self, elements):\n",
        "        \"\"\"The `elements` argument can be one of:\n",
        "        Case 1: an instance of Sudoku.  In that case, we initialize an \n",
        "        object to be equal to (a copy of) the provided instance.\n",
        "        Case 2: a list of 9 strings of length 9 each.\n",
        "        Each string represents a row of the initial Sudoku puzzle,\n",
        "        with either a digit 1..9 in it, or with a blank or _ to signify\n",
        "        a blank cell.\n",
        "        Case 3: a list of lists of sets, used to initialize the problem.\"\"\"\n",
        "\n",
        "        # Case 1\n",
        "        if isinstance(elements, Sudoku):\n",
        "            # We let self.m consist of copies of each set in elements.m\n",
        "            self.m = [[x.copy() for x in row] for row in elements.m]\n",
        "\n",
        "        # Cases 2 and 3\n",
        "        else:\n",
        "            assert len(elements) == 9\n",
        "            for s in elements:\n",
        "                assert len(s) == 9\n",
        "            # We let self.m be our Sudoku problem, a 9x9 matrix of sets. \n",
        "            self.m = []\n",
        "            for s in elements:\n",
        "                row = []\n",
        "                for c in s:\n",
        "                    # Case 2\n",
        "                    if isinstance(c, str):\n",
        "                        if c.isdigit():\n",
        "                            row.append({int(c)})\n",
        "                        else:\n",
        "                            row.append({1, 2, 3, 4, 5, 6, 7, 8, 9})\n",
        "                    # Case 3\n",
        "                    else:\n",
        "                        assert isinstance(c, set)\n",
        "                        row.append(c)\n",
        "                self.m.append(row)               \n",
        "            \n",
        "    def show(self, details=False):\n",
        "        \"\"\"Prints out the Sudoku matrix.  If details=False, we print out\n",
        "        the digits only for cells that have singleton sets (where only\n",
        "        one digit can fit).  If details=True, for each cell, we display the \n",
        "        sets associated with the cell.\"\"\"\n",
        "        if details:\n",
        "            print(\"+-----------------------------+-----------------------------+-----------------------------+\")\n",
        "            for i in range(9):\n",
        "                r = '|'\n",
        "                for j in range(9):\n",
        "                    # We represent the set {2, 3, 5} via _23_5____\n",
        "                    s = ''\n",
        "                    for k in range(1, 10):\n",
        "                        s += str(k) if k in self.m[i][j] else '_'\n",
        "                    r += s\n",
        "                    r += '|' if (j + 1) % 3 == 0 else ' '                        \n",
        "                print(r)\n",
        "                if (i + 1) % 3 == 0:\n",
        "                    print(\"+-----------------------------+-----------------------------+-----------------------------+\")\n",
        "        else:\n",
        "            print(\"+---+---+---+\")\n",
        "            for i in range(9):\n",
        "                r = '|'\n",
        "                for j in range(9):\n",
        "                    if len(self.m[i][j]) == 1:\n",
        "                        r += str(getel(self.m[i][j]))\n",
        "                    else:\n",
        "                        r += \".\"\n",
        "                    if (j + 1) % 3 == 0:\n",
        "                        r += \"|\"\n",
        "                print(r)\n",
        "                if (i + 1) % 3 == 0:\n",
        "                    print(\"+---+---+---+\")\n",
        "                    \n",
        "                    \n",
        "    def to_string(self):\n",
        "        \"\"\"This method is useful for producing a representation that \n",
        "        can be used in testing.\"\"\"\n",
        "        as_lists = [[list(self.m[i][j]) for j in range(9)] for i in range(9)]\n",
        "        return json.dumps(as_lists)\n",
        "    \n",
        "    @staticmethod\n",
        "    def from_string(s):\n",
        "        \"\"\"Inverse of above.\"\"\"\n",
        "        as_lists = json.loads(s)\n",
        "        as_sets = [[set(el) for el in row] for row in as_lists]\n",
        "        return Sudoku(as_sets)  \n",
        "    \n",
        "    def __eq__(self, other):\n",
        "        \"\"\"Useful for testing.\"\"\"\n",
        "        return self.m == other.m"
      ],
      "execution_count": null,
      "outputs": []
    },
    {
      "cell_type": "markdown",
      "metadata": {
        "deletable": false,
        "editable": false,
        "nbgrader": {
          "cell_type": "markdown",
          "checksum": "b194d55cba8dfaff7c5f6b6bdfbac098",
          "grade": false,
          "grade_id": "cell-19c3fae81a486834",
          "locked": true,
          "schema_version": 3,
          "solution": false,
          "task": false
        },
        "id": "qf15KXecc5Vd"
      },
      "source": [
        "Let us input a problem (the Sudoku example found on [this Wikipedia page](https://en.wikipedia.org/wiki/Sudoku)) and check that our serialization and deserialization works."
      ]
    },
    {
      "cell_type": "code",
      "metadata": {
        "deletable": false,
        "editable": false,
        "nbgrader": {
          "cell_type": "code",
          "checksum": "189bd1303f9f1991e37f48435dfd0bb8",
          "grade": false,
          "grade_id": "cell-6814b9b677c2e60c",
          "locked": true,
          "schema_version": 3,
          "solution": false,
          "task": false
        },
        "id": "3I5W9ySGc5Ve",
        "outputId": "07929cab-4fdc-4042-9520-50736fe81b29",
        "colab": {
          "base_uri": "https://localhost:8080/",
          "height": 459
        }
      },
      "source": [
        "sd = Sudoku([\n",
        "    '53__7____',\n",
        "    '6__195___',\n",
        "    '_98____6_',\n",
        "    '8___6___3',\n",
        "    '4__8_3__1',\n",
        "    '7___2___6',\n",
        "    '_6____28_',\n",
        "    '___419__5',\n",
        "    '____8__79'\n",
        "])\n",
        "sd.show()\n",
        "sd.show(details=True)"
      ],
      "execution_count": null,
      "outputs": [
        {
          "output_type": "stream",
          "text": [
            "+---+---+---+\n",
            "|53.|.7.|...|\n",
            "|6..|195|...|\n",
            "|.98|...|.6.|\n",
            "+---+---+---+\n",
            "|8..|.6.|..3|\n",
            "|4..|8.3|..1|\n",
            "|7..|.2.|..6|\n",
            "+---+---+---+\n",
            "|.6.|...|28.|\n",
            "|...|419|..5|\n",
            "|...|.8.|.79|\n",
            "+---+---+---+\n",
            "+-----------------------------+-----------------------------+-----------------------------+\n",
            "|____5____ __3______ 123456789|123456789 ______7__ 123456789|123456789 123456789 123456789|\n",
            "|_____6___ 123456789 123456789|1________ ________9 ____5____|123456789 123456789 123456789|\n",
            "|123456789 ________9 _______8_|123456789 123456789 123456789|123456789 _____6___ 123456789|\n",
            "+-----------------------------+-----------------------------+-----------------------------+\n",
            "|_______8_ 123456789 123456789|123456789 _____6___ 123456789|123456789 123456789 __3______|\n",
            "|___4_____ 123456789 123456789|_______8_ 123456789 __3______|123456789 123456789 1________|\n",
            "|______7__ 123456789 123456789|123456789 _2_______ 123456789|123456789 123456789 _____6___|\n",
            "+-----------------------------+-----------------------------+-----------------------------+\n",
            "|123456789 _____6___ 123456789|123456789 123456789 123456789|_2_______ _______8_ 123456789|\n",
            "|123456789 123456789 123456789|___4_____ 1________ ________9|123456789 123456789 ____5____|\n",
            "|123456789 123456789 123456789|123456789 _______8_ 123456789|123456789 ______7__ ________9|\n",
            "+-----------------------------+-----------------------------+-----------------------------+\n"
          ],
          "name": "stdout"
        }
      ]
    },
    {
      "cell_type": "code",
      "metadata": {
        "deletable": false,
        "editable": false,
        "nbgrader": {
          "cell_type": "code",
          "checksum": "49350f661c8d05944db4f079012712b8",
          "grade": false,
          "grade_id": "cell-228907784cb8adf7",
          "locked": true,
          "schema_version": 3,
          "solution": false,
          "task": false
        },
        "id": "hD4zagCKc5Vj",
        "outputId": "90601986-7c96-4e71-b6d9-50b7e6d805a0",
        "colab": {
          "base_uri": "https://localhost:8080/",
          "height": 238
        }
      },
      "source": [
        "s = sd.to_string()\n",
        "sdd = Sudoku.from_string(s)\n",
        "sdd.show(details=True)\n",
        "assert_equal(sd, sdd)"
      ],
      "execution_count": null,
      "outputs": [
        {
          "output_type": "stream",
          "text": [
            "+-----------------------------+-----------------------------+-----------------------------+\n",
            "|____5____ __3______ 123456789|123456789 ______7__ 123456789|123456789 123456789 123456789|\n",
            "|_____6___ 123456789 123456789|1________ ________9 ____5____|123456789 123456789 123456789|\n",
            "|123456789 ________9 _______8_|123456789 123456789 123456789|123456789 _____6___ 123456789|\n",
            "+-----------------------------+-----------------------------+-----------------------------+\n",
            "|_______8_ 123456789 123456789|123456789 _____6___ 123456789|123456789 123456789 __3______|\n",
            "|___4_____ 123456789 123456789|_______8_ 123456789 __3______|123456789 123456789 1________|\n",
            "|______7__ 123456789 123456789|123456789 _2_______ 123456789|123456789 123456789 _____6___|\n",
            "+-----------------------------+-----------------------------+-----------------------------+\n",
            "|123456789 _____6___ 123456789|123456789 123456789 123456789|_2_______ _______8_ 123456789|\n",
            "|123456789 123456789 123456789|___4_____ 1________ ________9|123456789 123456789 ____5____|\n",
            "|123456789 123456789 123456789|123456789 _______8_ 123456789|123456789 ______7__ ________9|\n",
            "+-----------------------------+-----------------------------+-----------------------------+\n"
          ],
          "name": "stdout"
        }
      ]
    },
    {
      "cell_type": "markdown",
      "metadata": {
        "deletable": false,
        "editable": false,
        "nbgrader": {
          "cell_type": "markdown",
          "checksum": "b95ee3e8710bda41f376816f54f81522",
          "grade": false,
          "grade_id": "cell-c768d27e2e4d61d3",
          "locked": true,
          "schema_version": 3,
          "solution": false,
          "task": false
        },
        "id": "qpNkKU4Kc5Vp"
      },
      "source": [
        "### Problem 1: Completing the definition of `propagate_cell` (20 points)\n",
        "\n",
        "When the set in a Sudoku cell contains only one element, this means that the digit at that cell is known.\n",
        " \n",
        "We can then propagate the knowledge, ruling out that digit in the same row, in the same column, and in the same 3x3 block.\n",
        "\n",
        "For this problem, you will write a method that propagates the constraint from a single cell.  The method will return the list of newly-determined cells, that is, the list of cells who also now (but not before) are associated with a 1-element set.  This is useful, because we can then propagate the constraints from those cells in turn.  Further, if an empty set is ever generated, we raise the exception `Unsolvable`: this means that there is no solution to the proposed Sudoku puzzle. "
      ]
    },
    {
      "cell_type": "markdown",
      "metadata": {
        "deletable": false,
        "editable": false,
        "nbgrader": {
          "cell_type": "markdown",
          "checksum": "3f998b113b4aad89979649f5ce5da407",
          "grade": false,
          "grade_id": "cell-f2c478c2b89cd75f",
          "locked": true,
          "schema_version": 3,
          "solution": false,
          "task": false
        },
        "id": "C887AWdDc5Vr"
      },
      "source": [
        "First, we implement a `ruleout` method for the `Sudoku` class.  The `ruleout` method takes a cell (in terms of its indices `i` and `j`) and a value `x`, and rules out the value `x` as a possibility for that cell.  If this makes the set of possibilities for the cell empty, then `ruleout` will raise an `Unsolvable` exception.\n",
        "\n",
        "If ruling out `x` narrows the possibilities for the specified cell to a single possibility, `ruleout` returns the set `{(i, j)}`.  Otherwise, it returns the empty set."
      ]
    },
    {
      "cell_type": "code",
      "metadata": {
        "deletable": false,
        "editable": false,
        "nbgrader": {
          "cell_type": "code",
          "checksum": "42aa5fe8a1431e9908b3c96f22e2088a",
          "grade": false,
          "grade_id": "cell-b9178334091e449c",
          "locked": true,
          "schema_version": 3,
          "solution": false,
          "task": false
        },
        "id": "I_oeBW9jc5Vt"
      },
      "source": [
        "class Unsolvable(Exception):\n",
        "    pass\n",
        "\n",
        "def sudoku_ruleout(self, i, j, x):\n",
        "    \"\"\"Takes as input a cell (i, j), and a value x.\n",
        "    Removes x from the set of possibilities for that cell, if present, and:\n",
        "    - if the resulting set is empty, raises Unsolvable;\n",
        "    - if the cell used to be a non-singleton cell and is now a singleton \n",
        "      cell, then returns the set {(i, j)};\n",
        "    - otherwise, returns the empty set.\"\"\"\n",
        "    c = self.m[i][j]\n",
        "    n = len(c)\n",
        "    c.discard(x)\n",
        "    self.m[i][j] = c\n",
        "    if len(c) == 0:\n",
        "        raise Unsolvable()\n",
        "    return {(i, j)} if 1 == len(c) < n else set()    \n",
        "\n",
        "Sudoku.ruleout = sudoku_ruleout"
      ],
      "execution_count": null,
      "outputs": []
    },
    {
      "cell_type": "markdown",
      "metadata": {
        "deletable": false,
        "editable": false,
        "nbgrader": {
          "cell_type": "markdown",
          "checksum": "568d39da0dc1718cf93c2a9c8921fa6e",
          "grade": false,
          "grade_id": "cell-97f226b6cd4d36b9",
          "locked": true,
          "schema_version": 3,
          "solution": false,
          "task": false
        },
        "id": "V_TxF4l5c5Vx"
      },
      "source": [
        "Now we can implement the `propagate_cell` method.  `propagate_cell` takes a two-element tuple `ij` of cell indices, and it propagates the singleton value at cell `(i, j)`, returning the set of newly-singleton cells that result from propagation.\n",
        "\n",
        "The provided code below is partly written for you.  It checks that `(i, j)` is a singleton cell, it propagates singleton values to cells in the same **row**.and it keeps track of the newly-singleton cells and returns a list of them.  \n",
        "\n",
        "Your job is to edit the below definition of `propagate_cell` in the designated places to implement propagation singleton values to cells in the same **column** and in the same **3x3 block**.\n",
        "\n",
        "As an example, suppose you have the following puzzle:"
      ]
    },
    {
      "cell_type": "code",
      "metadata": {
        "deletable": false,
        "editable": false,
        "nbgrader": {
          "cell_type": "code",
          "checksum": "b2e791449f766594e1beb6a788070359",
          "grade": false,
          "grade_id": "cell-4143fbb6c0d1651e",
          "locked": true,
          "schema_version": 3,
          "solution": false,
          "task": false
        },
        "id": "aIm61aNFc5Vz",
        "outputId": "7ab95ff9-859e-47a8-f849-49123be293fd",
        "colab": {
          "base_uri": "https://localhost:8080/",
          "height": 238
        }
      },
      "source": [
        "sd = Sudoku([\n",
        "    '53__7____',\n",
        "    '6__195___',\n",
        "    '_98____6_',\n",
        "    '8___6___3',\n",
        "    '4__8_3__1',\n",
        "    '7___2___6',\n",
        "    '_6____28_',\n",
        "    '___419__5',\n",
        "    '____8__79'\n",
        "])\n",
        "sd.show(details=True)"
      ],
      "execution_count": null,
      "outputs": [
        {
          "output_type": "stream",
          "text": [
            "+-----------------------------+-----------------------------+-----------------------------+\n",
            "|____5____ __3______ 123456789|123456789 ______7__ 123456789|123456789 123456789 123456789|\n",
            "|_____6___ 123456789 123456789|1________ ________9 ____5____|123456789 123456789 123456789|\n",
            "|123456789 ________9 _______8_|123456789 123456789 123456789|123456789 _____6___ 123456789|\n",
            "+-----------------------------+-----------------------------+-----------------------------+\n",
            "|_______8_ 123456789 123456789|123456789 _____6___ 123456789|123456789 123456789 __3______|\n",
            "|___4_____ 123456789 123456789|_______8_ 123456789 __3______|123456789 123456789 1________|\n",
            "|______7__ 123456789 123456789|123456789 _2_______ 123456789|123456789 123456789 _____6___|\n",
            "+-----------------------------+-----------------------------+-----------------------------+\n",
            "|123456789 _____6___ 123456789|123456789 123456789 123456789|_2_______ _______8_ 123456789|\n",
            "|123456789 123456789 123456789|___4_____ 1________ ________9|123456789 123456789 ____5____|\n",
            "|123456789 123456789 123456789|123456789 _______8_ 123456789|123456789 ______7__ ________9|\n",
            "+-----------------------------+-----------------------------+-----------------------------+\n"
          ],
          "name": "stdout"
        }
      ]
    },
    {
      "cell_type": "markdown",
      "metadata": {
        "deletable": false,
        "editable": false,
        "nbgrader": {
          "cell_type": "markdown",
          "checksum": "f627af569cb2523394d47c1033e4c5a2",
          "grade": false,
          "grade_id": "cell-f82fab2b30eaa107",
          "locked": true,
          "schema_version": 3,
          "solution": false,
          "task": false
        },
        "id": "lQekoJPJc5V6"
      },
      "source": [
        "Suppose you propagate the value of the singleton cell in the top left (cell `(0,0)`), whose value is 5, by calling `sd.propagate_cell((0, 0))` using the below provided implementation of `propagate_cell`.  Calling `sd.show(details=True)` would then show a puzzle where 5 has been ruled out as a possibility in every other cell in the same row:\n",
        "\n",
        "```\n",
        "+-----------------------------+-----------------------------+-----------------------------+\n",
        "|____5____ __3______ 1234_6789|1234_6789 ______7__ 1234_6789|1234_6789 1234_6789 1234_6789|\n",
        "|_____6___ 123456789 123456789|1________ ________9 ____5____|123456789 123456789 123456789|\n",
        "|123456789 ________9 _______8_|123456789 123456789 123456789|123456789 _____6___ 123456789|\n",
        "+-----------------------------+-----------------------------+-----------------------------+\n",
        "|_______8_ 123456789 123456789|123456789 _____6___ 123456789|123456789 123456789 __3______|\n",
        "|___4_____ 123456789 123456789|_______8_ 123456789 __3______|123456789 123456789 1________|\n",
        "|______7__ 123456789 123456789|123456789 _2_______ 123456789|123456789 123456789 _____6___|\n",
        "+-----------------------------+-----------------------------+-----------------------------+\n",
        "|123456789 _____6___ 123456789|123456789 123456789 123456789|_2_______ _______8_ 123456789|\n",
        "|123456789 123456789 123456789|___4_____ 1________ ________9|123456789 123456789 ____5____|\n",
        "|123456789 123456789 123456789|123456789 _______8_ 123456789|123456789 ______7__ ________9|\n",
        "+-----------------------------+-----------------------------+-----------------------------+\n",
        "```\n",
        "\n",
        "But if the `propagate_cell` method additionally propagated to columns and 3x3 blocks, you would get a puzzle where 5 has been ruled out as a possibility in every other cell in the same row, column, and 3x3 block, as shown below:\n",
        "\n",
        "```\n",
        "+-----------------------------+-----------------------------+-----------------------------+\n",
        "|____5____ __3______ 1234_6789|1234_6789 ______7__ 1234_6789|1234_6789 1234_6789 1234_6789|\n",
        "|_____6___ 1234_6789 1234_6789|1________ ________9 ____5____|123456789 123456789 123456789|\n",
        "|1234_6789 ________9 _______8_|123456789 123456789 123456789|123456789 _____6___ 123456789|\n",
        "+-----------------------------+-----------------------------+-----------------------------+\n",
        "|_______8_ 123456789 123456789|123456789 _____6___ 123456789|123456789 123456789 __3______|\n",
        "|___4_____ 123456789 123456789|_______8_ 123456789 __3______|123456789 123456789 1________|\n",
        "|______7__ 123456789 123456789|123456789 _2_______ 123456789|123456789 123456789 _____6___|\n",
        "+-----------------------------+-----------------------------+-----------------------------+\n",
        "|1234_6789 _____6___ 123456789|123456789 123456789 123456789|_2_______ _______8_ 123456789|\n",
        "|1234_6789 123456789 123456789|___4_____ 1________ ________9|123456789 123456789 ____5____|\n",
        "|1234_6789 123456789 123456789|123456789 _______8_ 123456789|123456789 ______7__ ________9|\n",
        "+-----------------------------+-----------------------------+-----------------------------+\n",
        "```\n",
        "\n",
        "That is the behavior we are asking you to implement.\n",
        "\n",
        "**Hint:** You can look at the way that propagation is implemented for rows, and use that as a guide for how to implement it for columns.  Propagation to 3x3 blocks is slightly trickier because you have to work out which cells to propagate to."
      ]
    },
    {
      "cell_type": "code",
      "metadata": {
        "deletable": false,
        "nbgrader": {
          "cell_type": "code",
          "checksum": "ee22e583f104d18353150d3c6a7b36da",
          "grade": false,
          "grade_id": "cell-f4898831f6d8df77",
          "locked": false,
          "schema_version": 3,
          "solution": true,
          "task": false
        },
        "id": "tbpDLgMWc5V7"
      },
      "source": [
        "def sudoku_propagate_cell(self, ij):\n",
        "    \"\"\"Takes a two-element tuple `ij` of cell indices.\n",
        "    Propagates the singleton value at cell (i, j), returning the set \n",
        "    of newly-singleton cells.\"\"\"\n",
        "    i, j = ij\n",
        "    if len(self.m[i][j]) > 1:\n",
        "        # Nothing to propagate from cell (i,j).\n",
        "        return set()\n",
        "    # We keep track of the newly-singleton cells.\n",
        "    newly_singleton = set()\n",
        "    x = getel(self.m[i][j]) # Value at (i, j). \n",
        "\n",
        "    # Same row.\n",
        "    for jj in range(9):\n",
        "        if jj != j: # Do not propagate to the element itself.\n",
        "            newly_singleton.update(self.ruleout(i, jj, x))\n",
        "            \n",
        "    # Same column.\n",
        "    for ii in range(9):\n",
        "        if ii != i:\n",
        "            newly_singleton.update(self.ruleout(ii, j, x))\n",
        "    \n",
        "    # Same 3x3 block of cells.\n",
        "    if i <= 2:\n",
        "        row = 'top'\n",
        "    elif i <= 5:\n",
        "        row = 'mid'\n",
        "    elif i <= 8:\n",
        "        row = 'bot'\n",
        "    if j <= 2:\n",
        "        column = 'left'\n",
        "    elif j <= 5:\n",
        "        column = 'mid'\n",
        "    elif j <= 8:\n",
        "        column = 'right'\n",
        "    \n",
        "    if row == 'top':\n",
        "        if column == 'left':\n",
        "            for ii in range(3):\n",
        "                for jj in range(3):\n",
        "                    if ii != i and jj != j:\n",
        "                        newly_singleton.update(self.ruleout(ii, jj, x))\n",
        "        elif column == 'mid':\n",
        "            for ii in range(3):\n",
        "                for jj in range(3, 6):\n",
        "                    if ii != i and jj != j:\n",
        "                        newly_singleton.update(self.ruleout(ii, jj, x))\n",
        "        elif column == 'right':\n",
        "            for ii in range(3):\n",
        "                for jj in range(6, 9):\n",
        "                    if ii != i and jj != j:\n",
        "                        newly_singleton.update(self.ruleout(ii, jj, x))\n",
        "    elif row == 'mid':\n",
        "        if column == 'left':\n",
        "            for ii in range(3, 6):\n",
        "                for jj in range(3):\n",
        "                    if ii != i and jj != j:\n",
        "                        newly_singleton.update(self.ruleout(ii, jj, x))\n",
        "        elif column == 'mid':\n",
        "            for ii in range(3, 6):\n",
        "                for jj in range(3, 6):\n",
        "                    if ii != i and jj != j:\n",
        "                        newly_singleton.update(self.ruleout(ii, jj, x))\n",
        "        elif column == 'right':\n",
        "            for ii in range(3, 6):\n",
        "                for jj in range(6, 9):\n",
        "                    if ii != i and jj != j:\n",
        "                        newly_singleton.update(self.ruleout(ii, jj, x))\n",
        "    elif row == 'bot':\n",
        "        if column == 'left':\n",
        "            for ii in range(6, 9):\n",
        "                for jj in range(3):\n",
        "                    if ii != i and jj != j:\n",
        "                        newly_singleton.update(self.ruleout(ii, jj, x))\n",
        "        elif column == 'mid':\n",
        "            for ii in range(6, 9):\n",
        "                for jj in range(3, 6):\n",
        "                    if ii != i and jj != j:\n",
        "                        newly_singleton.update(self.ruleout(ii, jj, x))\n",
        "        elif column == 'right':\n",
        "            for ii in range(6, 9):\n",
        "                for jj in range(6, 9):\n",
        "                    if ii != i and jj != j:\n",
        "                        newly_singleton.update(self.ruleout(ii, jj, x))\n",
        "\n",
        "\n",
        "    # Returns the list of newly-singleton cells.\n",
        "    return newly_singleton\n",
        "\n",
        "Sudoku.propagate_cell = sudoku_propagate_cell"
      ],
      "execution_count": null,
      "outputs": []
    },
    {
      "cell_type": "code",
      "metadata": {
        "id": "uOIG0LEEc5WB"
      },
      "source": [
        "### Feel free to use this cell to write your own tests.\n",
        "### You will not be graded on what you write here.\n"
      ],
      "execution_count": null,
      "outputs": []
    },
    {
      "cell_type": "code",
      "metadata": {
        "deletable": false,
        "editable": false,
        "nbgrader": {
          "cell_type": "code",
          "checksum": "cd7298d161ee339afc973810068fb411",
          "grade": true,
          "grade_id": "cell-682bb386338b2734",
          "locked": true,
          "points": 5,
          "schema_version": 3,
          "solution": false,
          "task": false
        },
        "id": "rBtBjQMfc5WG"
      },
      "source": [
        "### Propagating to the same column\n",
        "\n",
        "tsd = Sudoku([\n",
        "    '53__7____',\n",
        "    '6__195___',\n",
        "    '_98____6_',\n",
        "    '8___6___3',\n",
        "    '4__8_3__1',\n",
        "    '7___2___6',\n",
        "    '_6____28_',\n",
        "    '___419__5',\n",
        "    '____8__79'\n",
        "])\n",
        "\n",
        "# Ensure that the value 5 in cell (0, 0) has been ruled out for other cells in the same column\n",
        "tsd.propagate_cell((0,0))\n",
        "assert_equal(\n",
        "    [tsd.m[i][0] for i in range(9)],\n",
        "    [{5},\n",
        "     {6},\n",
        "     {1, 2, 3, 4, 6, 7, 8, 9},\n",
        "     {8},\n",
        "     {4},\n",
        "     {7},\n",
        "     {1, 2, 3, 4, 6, 7, 8, 9},\n",
        "     {1, 2, 3, 4, 6, 7, 8, 9},\n",
        "     {1, 2, 3, 4, 6, 7, 8, 9}])\n",
        "\n",
        "tsd = Sudoku([\n",
        "    '53__7____',\n",
        "    '6__195___',\n",
        "    '_98____6_',\n",
        "    '8___6___3',\n",
        "    '4__8_3__1',\n",
        "    '7___2___6',\n",
        "    '_6____28_',\n",
        "    '___419__5',\n",
        "    '____8__79'\n",
        "])\n",
        "\n",
        "# Ensure that the value 3 in cell (4, 5) has been ruled out for other cells in the same column\n",
        "tsd.propagate_cell((4,5))\n",
        "assert_equal(\n",
        "    [tsd.m[i][5] for i in range(9)],\n",
        "    [{1, 2, 4, 5, 6, 7, 8, 9},\n",
        "     {5},\n",
        "     {1, 2, 4, 5, 6, 7, 8, 9},\n",
        "     {1, 2, 4, 5, 6, 7, 8, 9},\n",
        "     {3},\n",
        "     {1, 2, 4, 5, 6, 7, 8, 9},\n",
        "     {1, 2, 4, 5, 6, 7, 8, 9},\n",
        "     {9},\n",
        "     {1, 2, 4, 5, 6, 7, 8, 9}])\n",
        "\n",
        "tsd = Sudoku([\n",
        "    '6____894_',\n",
        "    '9____61__',\n",
        "    '_7__4____',\n",
        "    '2__61____',\n",
        "    '______2__',\n",
        "    '_89__2___',\n",
        "    '____6___5',\n",
        "    '_______3_',\n",
        "    '8____16__'\n",
        "])\n",
        "\n",
        "# Ensure that the value 3 in cell (7, 7) has been ruled out for other cells in the same column\n",
        "tsd.propagate_cell((7, 7))\n",
        "assert_equal(\n",
        "    [tsd.m[i][7] for i in range(9)],\n",
        "    [{4},\n",
        "     {1, 2, 4, 5, 6, 7, 8, 9},\n",
        "     {1, 2, 4, 5, 6, 7, 8, 9},\n",
        "     {1, 2, 4, 5, 6, 7, 8, 9},\n",
        "     {1, 2, 4, 5, 6, 7, 8, 9},\n",
        "     {1, 2, 4, 5, 6, 7, 8, 9},\n",
        "     {1, 2, 4, 5, 6, 7, 8, 9},\n",
        "     {3},\n",
        "     {1, 2, 4, 5, 6, 7, 8, 9}])\n"
      ],
      "execution_count": null,
      "outputs": []
    },
    {
      "cell_type": "code",
      "metadata": {
        "deletable": false,
        "editable": false,
        "nbgrader": {
          "cell_type": "code",
          "checksum": "5cad106428d5433de9462f535174cabb",
          "grade": true,
          "grade_id": "cell-912e0233a6d1efd1",
          "locked": true,
          "points": 5,
          "schema_version": 3,
          "solution": false,
          "task": false
        },
        "id": "w4hoG78Mc5WM"
      },
      "source": [
        "### Propagating to the same 3x3 block\n",
        "\n",
        "tsd = Sudoku([\n",
        "    '53__7____',\n",
        "    '6__195___',\n",
        "    '_98____6_',\n",
        "    '8___6___3',\n",
        "    '4__8_3__1',\n",
        "    '7___2___6',\n",
        "    '_6____28_',\n",
        "    '___419__5',\n",
        "    '____8__79'\n",
        "])\n",
        "\n",
        "# Ensure that the value 5 in cell (0, 0) has been ruled out for other cells in the same 3x3 block\n",
        "tsd.propagate_cell((0,0))\n",
        "assert_equal(\n",
        "    [tsd.m[i][j] for i in range(3) for j in range(3)],\n",
        "    [{5},                          {3},                      {1, 2, 3, 4, 6, 7, 8, 9},\n",
        "     {6},                          {1, 2, 3, 4, 6, 7, 8, 9}, {1, 2, 3, 4, 6, 7, 8, 9},\n",
        "     {1, 2, 3, 4, 6, 7, 8, 9},     {9},                      {8}])\n",
        "\n",
        "tsd = Sudoku([\n",
        "    '6____894_',\n",
        "    '9____61__',\n",
        "    '_7__4____',\n",
        "    '2__61____',\n",
        "    '______2__',\n",
        "    '_89__2___',\n",
        "    '____6___5',\n",
        "    '_______3_',\n",
        "    '8____16__'\n",
        "])\n",
        "\n",
        "# Ensure that the value 9 in cell (0, 6) has been ruled out for other cells in the same 3x3 block\n",
        "tsd.propagate_cell((0, 6))\n",
        "assert_equal(\n",
        "    [tsd.m[i][j] for i in range(3) for j in range(6, 9)],\n",
        "    [{9},                          {4},                          {1, 2, 3, 4, 5, 6, 7, 8},\n",
        "     {1},                          {1, 2, 3, 4, 5, 6, 7, 8},     {1, 2, 3, 4, 5, 6, 7, 8},\n",
        "     {1, 2, 3, 4, 5, 6, 7, 8},     {1, 2, 3, 4, 5, 6, 7, 8},     {1, 2, 3, 4, 5, 6, 7, 8}])\n",
        "\n",
        "tsd = Sudoku([\n",
        "    '6____894_',\n",
        "    '9____61__',\n",
        "    '_7__4____',\n",
        "    '2__61____',\n",
        "    '______2__',\n",
        "    '_89__2___',\n",
        "    '____6___5',\n",
        "    '_______3_',\n",
        "    '8____16__'\n",
        "])\n",
        "\n",
        "# Ensure that the value 3 in cell (7, 7) has been ruled out for other cells in the same 3x3 block\n",
        "tsd.propagate_cell((7, 7))\n",
        "assert_equal(\n",
        "    [tsd.m[i][j] for i in range(6, 9) for j in range(6, 9)],\n",
        "    [{1, 2, 4, 5, 6, 7, 8, 9},     {1, 2, 4, 5, 6, 7, 8, 9},     {5},\n",
        "     {1, 2, 4, 5, 6, 7, 8, 9},     {3},                          {1, 2, 4, 5, 6, 7, 8, 9},\n",
        "     {6},                          {1, 2, 4, 5, 6, 7, 8, 9},     {1, 2, 4, 5, 6, 7, 8, 9}])\n"
      ],
      "execution_count": null,
      "outputs": []
    },
    {
      "cell_type": "code",
      "metadata": {
        "deletable": false,
        "editable": false,
        "nbgrader": {
          "cell_type": "code",
          "checksum": "c970e8631a1e16f5c4d6ec6aaed3f826",
          "grade": true,
          "grade_id": "cell-3dc19816fd4b4887",
          "locked": true,
          "points": 10,
          "schema_version": 3,
          "solution": false,
          "task": false
        },
        "id": "GRp2Pj-Hc5WR",
        "outputId": "6953ee6e-f949-42f7-de4e-16e76aa2533a",
        "colab": {
          "base_uri": "https://localhost:8080/",
          "height": 476
        }
      },
      "source": [
        "### More tests for cell propagation\n",
        "\n",
        "tsd = Sudoku.from_string('[[[5], [3], [2], [6], [7], [8], [9], [1, 2, 4], [2]], [[6], [7], [1, 2, 4, 7], [1, 2, 3], [9], [5], [3], [1, 2, 4], [8]], [[1, 2], [9], [8], [3], [4], [1, 2], [5], [6], [7]], [[8], [5], [9], [1, 9, 7], [6], [1, 4, 9, 7], [4], [2], [3]], [[4], [2], [6], [8], [5], [3], [7], [9], [1]], [[7], [1], [3], [9], [2], [4], [8], [5], [6]], [[1, 9], [6], [1, 5, 9, 7], [9, 5, 7], [3], [9, 7], [2], [8], [4]], [[9, 2], [8], [9, 2, 7], [4], [1], [9, 2, 7], [6], [3], [5]], [[3], [4], [2, 3, 4, 5], [2, 5, 6], [8], [6], [1], [7], [9]]]')\n",
        "tsd.show(details=True)\n",
        "try:\n",
        "    tsd.propagate_cell((0, 2))\n",
        "except Unsolvable:\n",
        "    print(\"Good! It was unsolvable.\")\n",
        "else:\n",
        "    raise Exception(\"Hey, it was unsolvable\")\n",
        "    \n",
        "tsd = Sudoku.from_string('[[[5], [3], [2], [6], [7], [8], [9], [1, 2, 4], [2, 3]], [[6], [7], [1, 2, 4, 7], [1, 2, 3], [9], [5], [3], [1, 2, 4], [8]], [[1, 2], [9], [8], [3], [4], [1, 2], [5], [6], [7]], [[8], [5], [9], [1, 9, 7], [6], [1, 4, 9, 7], [4], [2], [3]], [[4], [2], [6], [8], [5], [3], [7], [9], [1]], [[7], [1], [3], [9], [2], [4], [8], [5], [6]], [[1, 9], [6], [1, 5, 9, 7], [9, 5, 7], [3], [9, 7], [2], [8], [4]], [[9, 2], [8], [9, 2, 7], [4], [1], [9, 2, 7], [6], [3], [5]], [[3], [4], [2, 3, 4, 5], [2, 5, 6], [8], [6], [1], [7], [9]]]')\n",
        "tsd.show(details=True)\n",
        "assert_equal(tsd.propagate_cell((0, 2)), {(0, 8), (2, 0)})\n"
      ],
      "execution_count": null,
      "outputs": [
        {
          "output_type": "stream",
          "text": [
            "+-----------------------------+-----------------------------+-----------------------------+\n",
            "|____5____ __3______ _2_______|_____6___ ______7__ _______8_|________9 12_4_____ _2_______|\n",
            "|_____6___ ______7__ 12_4__7__|123______ ________9 ____5____|__3______ 12_4_____ _______8_|\n",
            "|12_______ ________9 _______8_|__3______ ___4_____ 12_______|____5____ _____6___ ______7__|\n",
            "+-----------------------------+-----------------------------+-----------------------------+\n",
            "|_______8_ ____5____ ________9|1_____7_9 _____6___ 1__4__7_9|___4_____ _2_______ __3______|\n",
            "|___4_____ _2_______ _____6___|_______8_ ____5____ __3______|______7__ ________9 1________|\n",
            "|______7__ 1________ __3______|________9 _2_______ ___4_____|_______8_ ____5____ _____6___|\n",
            "+-----------------------------+-----------------------------+-----------------------------+\n",
            "|1_______9 _____6___ 1___5_7_9|____5_7_9 __3______ ______7_9|_2_______ _______8_ ___4_____|\n",
            "|_2______9 _______8_ _2____7_9|___4_____ 1________ _2____7_9|_____6___ __3______ ____5____|\n",
            "|__3______ ___4_____ _2345____|_2__56___ _______8_ _____6___|1________ ______7__ ________9|\n",
            "+-----------------------------+-----------------------------+-----------------------------+\n",
            "Good! It was unsolvable.\n",
            "+-----------------------------+-----------------------------+-----------------------------+\n",
            "|____5____ __3______ _2_______|_____6___ ______7__ _______8_|________9 12_4_____ _23______|\n",
            "|_____6___ ______7__ 12_4__7__|123______ ________9 ____5____|__3______ 12_4_____ _______8_|\n",
            "|12_______ ________9 _______8_|__3______ ___4_____ 12_______|____5____ _____6___ ______7__|\n",
            "+-----------------------------+-----------------------------+-----------------------------+\n",
            "|_______8_ ____5____ ________9|1_____7_9 _____6___ 1__4__7_9|___4_____ _2_______ __3______|\n",
            "|___4_____ _2_______ _____6___|_______8_ ____5____ __3______|______7__ ________9 1________|\n",
            "|______7__ 1________ __3______|________9 _2_______ ___4_____|_______8_ ____5____ _____6___|\n",
            "+-----------------------------+-----------------------------+-----------------------------+\n",
            "|1_______9 _____6___ 1___5_7_9|____5_7_9 __3______ ______7_9|_2_______ _______8_ ___4_____|\n",
            "|_2______9 _______8_ _2____7_9|___4_____ 1________ _2____7_9|_____6___ __3______ ____5____|\n",
            "|__3______ ___4_____ _2345____|_2__56___ _______8_ _____6___|1________ ______7__ ________9|\n",
            "+-----------------------------+-----------------------------+-----------------------------+\n"
          ],
          "name": "stdout"
        }
      ]
    },
    {
      "cell_type": "markdown",
      "metadata": {
        "deletable": false,
        "editable": false,
        "nbgrader": {
          "cell_type": "markdown",
          "checksum": "79abc810e43150d4eb584fea9674ef57",
          "grade": false,
          "grade_id": "cell-60df952c93aba490",
          "locked": true,
          "schema_version": 3,
          "solution": false,
          "task": false
        },
        "id": "EgjqNJW_c5WV"
      },
      "source": [
        "### Problem 2: Propagating all cells, repeatedly (20 points)\n",
        "\n",
        "During lecture, we considered what happens if we propagate all singleton values once:"
      ]
    },
    {
      "cell_type": "code",
      "metadata": {
        "deletable": false,
        "editable": false,
        "nbgrader": {
          "cell_type": "code",
          "checksum": "fd3b8affa6f21095b66f42c188a8bbcb",
          "grade": false,
          "grade_id": "cell-d94d92111910a960",
          "locked": true,
          "schema_version": 3,
          "solution": false,
          "task": false
        },
        "id": "CT4oNr7_c5WX"
      },
      "source": [
        "def sudoku_propagate_all_cells_once(self):\n",
        "    \"\"\"This function propagates the constraints from all singletons.\"\"\"\n",
        "    for i in range(9):\n",
        "        for j in range(9):\n",
        "            self.propagate_cell((i, j))\n",
        "            \n",
        "Sudoku.propagate_all_cells_once = sudoku_propagate_all_cells_once"
      ],
      "execution_count": null,
      "outputs": []
    },
    {
      "cell_type": "code",
      "metadata": {
        "deletable": false,
        "editable": false,
        "nbgrader": {
          "cell_type": "code",
          "checksum": "ce666efe095b29c3f5322b9b8634e7a1",
          "grade": false,
          "grade_id": "cell-d24c76405f37d384",
          "locked": true,
          "schema_version": 3,
          "solution": false,
          "task": false
        },
        "id": "dvJDypE9c5Wb",
        "outputId": "8609d4f3-b3a6-4d8e-d44f-89b12c748e12",
        "colab": {
          "base_uri": "https://localhost:8080/",
          "height": 238
        }
      },
      "source": [
        "tsd = Sudoku([\n",
        "    '53__7____',\n",
        "    '6__195___',\n",
        "    '_98____6_',\n",
        "    '8___6___3',\n",
        "    '4__8_3__1',\n",
        "    '7___2___6',\n",
        "    '_6____28_',\n",
        "    '___419__5',\n",
        "    '____8__79'\n",
        "])\n",
        "sd.propagate_all_cells_once()\n",
        "sd.show(details=True)"
      ],
      "execution_count": null,
      "outputs": [
        {
          "output_type": "stream",
          "text": [
            "+-----------------------------+-----------------------------+-----------------------------+\n",
            "|____5____ __3______ 12_4_____|_2___6___ ______7__ _2_4_6_8_|1__4___89 12_4____9 _2_4___8_|\n",
            "|_____6___ _2_4__7__ _2_4__7__|1________ ________9 ____5____|__34__78_ _234_____ _2_4__78_|\n",
            "|12_______ ________9 _______8_|_23______ __34_____ _2_4_____|1_345_7__ _____6___ _2_4__7__|\n",
            "+-----------------------------+-----------------------------+-----------------------------+\n",
            "|_______8_ 12__5____ 12__5___9|____5_7_9 _____6___ 1__4__7__|___45_7_9 _2_45___9 __3______|\n",
            "|___4_____ _2__5____ _2__56__9|_______8_ ____5____ __3______|____5_7_9 _2__5___9 1________|\n",
            "|______7__ 1___5____ 1_3_5___9|____5___9 _2_______ 1__4_____|___45__89 ___45___9 _____6___|\n",
            "+-----------------------------+-----------------------------+-----------------------------+\n",
            "|1_3_____9 _____6___ 1_345_7_9|__3_5_7__ __3_5____ ______7__|_2_______ _______8_ ___4_____|\n",
            "|_23______ _2____78_ _23___7__|___4_____ 1________ ________9|__3__6___ __3______ ____5____|\n",
            "|123______ 12_45____ 12345____|_23_56___ _______8_ _2___6___|1_34_6___ ______7__ ________9|\n",
            "+-----------------------------+-----------------------------+-----------------------------+\n"
          ],
          "name": "stdout"
        }
      ]
    },
    {
      "cell_type": "markdown",
      "metadata": {
        "deletable": false,
        "editable": false,
        "nbgrader": {
          "cell_type": "markdown",
          "checksum": "cf9ba552e7d7f1edd8b6ed77a641419e",
          "grade": false,
          "grade_id": "cell-0b7e050524e5a4b8",
          "locked": true,
          "schema_version": 3,
          "solution": false,
          "task": false
        },
        "id": "14XYV2Bic5Wf"
      },
      "source": [
        "We see that propagating once leaves us with some new singleton cells, such as `{5}` for the middle cell in the above puzzle.  (If you haven't yet correctly implemented problem 1, the middle cell in the above puzzle may not be a singleton cell yet.  If it isn't, don't move on to this problem until problem 1 is done.)  We need to make sure that these new singleton values are propagated. \n",
        "\n",
        "For this problem, you will complete the implementation of a method `full_propagation` that starts with a set of `to_propagate` cells (if it is not specified, then we just take it to consist of all singleton cells; this is already implemented for you).\n",
        "\n",
        "The `full_propagation` method should pick a cell from the `to_propagate` set, and propagate from it, adding any newly singleton cell to `to_propagate`.  It continues until there are no more singleton cells to be propagated.  `full_propagation` does not return a value.  This can be implemented in about 3 lines of code.\n",
        "\n",
        "Here's what the above example puzzle will look like if we do full propagation correctly:\n",
        "\n",
        "```\n",
        "+-----------------------------+-----------------------------+-----------------------------+\n",
        "|____5____ __3______ ___4_____|_____6___ ______7__ _______8_|________9 1________ _2_______|\n",
        "|_____6___ ______7__ _2_______|1________ ________9 ____5____|__3______ ___4_____ _______8_|\n",
        "|1________ ________9 _______8_|__3______ ___4_____ _2_______|____5____ _____6___ ______7__|\n",
        "+-----------------------------+-----------------------------+-----------------------------+\n",
        "|_______8_ ____5____ ________9|______7__ _____6___ 1________|___4_____ _2_______ __3______|\n",
        "|___4_____ _2_______ _____6___|_______8_ ____5____ __3______|______7__ ________9 1________|\n",
        "|______7__ 1________ __3______|________9 _2_______ ___4_____|_______8_ ____5____ _____6___|\n",
        "+-----------------------------+-----------------------------+-----------------------------+\n",
        "|________9 _____6___ 1________|____5____ __3______ ______7__|_2_______ _______8_ ___4_____|\n",
        "|_2_______ _______8_ ______7__|___4_____ 1________ ________9|_____6___ __3______ ____5____|\n",
        "|__3______ ___4_____ ____5____|_2_______ _______8_ _____6___|1________ ______7__ ________9|\n",
        "+-----------------------------+-----------------------------+-----------------------------+\n",
        "```\n",
        "\n",
        "As you can see, the puzzle can be completely solved using constraint propagation."
      ]
    },
    {
      "cell_type": "code",
      "metadata": {
        "deletable": false,
        "nbgrader": {
          "cell_type": "code",
          "checksum": "3b9936e1dd2c3c089cf2fd7f19668ccc",
          "grade": false,
          "grade_id": "cell-c6b05636d5978119",
          "locked": false,
          "schema_version": 3,
          "solution": true,
          "task": false
        },
        "id": "V5CkjSm8c5Wh"
      },
      "source": [
        "def sudoku_full_propagation(self, to_propagate=None):\n",
        "    \"\"\"Iteratively propagates from all singleton cells, and from all \n",
        "    newly discovered singleton cells, until no more propagation is possible.\"\"\"\n",
        "    if to_propagate is None:\n",
        "        to_propagate = {(i, j) for i in range(9) for j in range(9)}\n",
        "    while len(to_propagate) != 0:\n",
        "        ij = to_propagate.pop()\n",
        "        to_propagate.update(self.propagate_cell(ij))\n",
        "\n",
        "    \n",
        "Sudoku.full_propagation = sudoku_full_propagation"
      ],
      "execution_count": null,
      "outputs": []
    },
    {
      "cell_type": "code",
      "metadata": {
        "id": "TA25AJtzc5Wk"
      },
      "source": [
        "### Feel free to use this cell to write your own tests.\n",
        "### You will not be graded on what you write here.\n"
      ],
      "execution_count": null,
      "outputs": []
    },
    {
      "cell_type": "code",
      "metadata": {
        "deletable": false,
        "editable": false,
        "nbgrader": {
          "cell_type": "code",
          "checksum": "f80078d905bfb5709a837a7a130ff4a0",
          "grade": true,
          "grade_id": "cell-7d0e84be5a0b7286",
          "locked": true,
          "points": 10,
          "schema_version": 3,
          "solution": false,
          "task": false
        },
        "id": "h856WeWDc5Wq",
        "outputId": "5c79371b-0a96-4032-a524-c0ac1b5e4dbb",
        "colab": {
          "base_uri": "https://localhost:8080/",
          "height": 238
        }
      },
      "source": [
        "### Tests for `full_propagation`\n",
        "\n",
        "sd = Sudoku([\n",
        "    '53__7____',\n",
        "    '6__195___',\n",
        "    '_98____6_',\n",
        "    '8___6___3',\n",
        "    '4__8_3__1',\n",
        "    '7___2___6',\n",
        "    '_6____28_',\n",
        "    '___419__5',\n",
        "    '____8__79'\n",
        "])\n",
        "sd.full_propagation()\n",
        "sd.show()\n",
        "\n",
        "# Spot checks for a few cells\n",
        "assert_equal(sd.m[0][2], {4})\n",
        "assert_equal(sd.m[1][1], {7})\n",
        "assert_equal(sd.m[8][1], {4})\n",
        "assert_equal(sd.m[4][7], {9})\n"
      ],
      "execution_count": null,
      "outputs": [
        {
          "output_type": "stream",
          "text": [
            "+---+---+---+\n",
            "|534|678|912|\n",
            "|672|195|348|\n",
            "|198|342|567|\n",
            "+---+---+---+\n",
            "|859|761|423|\n",
            "|426|853|791|\n",
            "|713|924|856|\n",
            "+---+---+---+\n",
            "|961|537|284|\n",
            "|287|419|635|\n",
            "|345|286|179|\n",
            "+---+---+---+\n"
          ],
          "name": "stdout"
        }
      ]
    },
    {
      "cell_type": "code",
      "metadata": {
        "deletable": false,
        "editable": false,
        "nbgrader": {
          "cell_type": "code",
          "checksum": "28b5be4b8078db20ad68e780a8728e7e",
          "grade": true,
          "grade_id": "cell-56171e26e76546f0",
          "locked": true,
          "points": 10,
          "schema_version": 3,
          "solution": false,
          "task": false
        },
        "id": "NScBGUdbc5Wt",
        "outputId": "143602aa-9377-4fa3-c3eb-e63179bf9eb6",
        "colab": {
          "base_uri": "https://localhost:8080/",
          "height": 459
        }
      },
      "source": [
        "### More tests for `full_propagation`\n",
        "\n",
        "# Full propagation is enough to solve this puzzle...\n",
        "sd = Sudoku([\n",
        "    '53__7____',\n",
        "    '6__195___',\n",
        "    '_98____6_',\n",
        "    '8___6___3',\n",
        "    '4__8_3__1',\n",
        "    '7___2___6',\n",
        "    '_6____28_',\n",
        "    '___419__5',\n",
        "    '____8__79'\n",
        "])\n",
        "sd.full_propagation()\n",
        "sd.show()\n",
        "sdd = Sudoku.from_string('[[[5], [3], [4], [6], [7], [8], [9], [1], [2]], [[6], [7], [2], [1], [9], [5], [3], [4], [8]], [[1], [9], [8], [3], [4], [2], [5], [6], [7]], [[8], [5], [9], [7], [6], [1], [4], [2], [3]], [[4], [2], [6], [8], [5], [3], [7], [9], [1]], [[7], [1], [3], [9], [2], [4], [8], [5], [6]], [[9], [6], [1], [5], [3], [7], [2], [8], [4]], [[2], [8], [7], [4], [1], [9], [6], [3], [5]], [[3], [4], [5], [2], [8], [6], [1], [7], [9]]]')\n",
        "assert_equal(sd, sdd)\n",
        "\n",
        "# ...but not this one \n",
        "sd = Sudoku([\n",
        "    '8________',\n",
        "    '__36_____',\n",
        "    '_7__9_2__',\n",
        "    '_5___7___',\n",
        "    '____457__',\n",
        "    '___1___3_',\n",
        "    '__1____68',\n",
        "    '__85___1_',\n",
        "    '_9____4__'\n",
        "])\n",
        "sd.full_propagation()\n",
        "sd.show()\n",
        "sdd = Sudoku.from_string('[[[8], [1, 2, 4, 6], [2, 4, 5, 6, 9], [2, 3, 4, 7], [1, 2, 3, 5, 7], [1, 2, 3, 4], [1, 3, 5, 6, 9], [4, 5, 7, 9], [1, 3, 4, 5, 6, 7, 9]], [[1, 2, 4, 5, 9], [1, 2, 4], [3], [6], [1, 2, 5, 7, 8], [1, 2, 4, 8], [1, 5, 8, 9], [4, 5, 7, 8, 9], [1, 4, 5, 7, 9]], [[1, 4, 5, 6], [7], [4, 5, 6], [3, 4, 8], [9], [1, 3, 4, 8], [2], [4, 5, 8], [1, 3, 4, 5, 6]], [[1, 2, 3, 4, 6, 9], [5], [2, 4, 6, 9], [2, 3, 8, 9], [2, 3, 6, 8], [7], [1, 6, 8, 9], [2, 4, 8, 9], [1, 2, 4, 6, 9]], [[1, 2, 3, 6, 9], [1, 2, 3, 6, 8], [2, 6, 9], [2, 3, 8, 9], [4], [5], [7], [2, 8, 9], [1, 2, 6, 9]], [[2, 4, 6, 7, 9], [2, 4, 6, 8], [2, 4, 6, 7, 9], [1], [2, 6, 8], [2, 6, 8, 9], [5, 6, 8, 9], [3], [2, 4, 5, 6, 9]], [[2, 3, 4, 5, 7], [2, 3, 4], [1], [2, 3, 4, 7, 9], [2, 3, 7], [2, 3, 4, 9], [3, 5, 9], [6], [8]], [[2, 3, 4, 6, 7], [2, 3, 4, 6], [8], [5], [2, 3, 6, 7], [2, 3, 4, 6, 9], [3, 9], [1], [2, 3, 7, 9]], [[2, 3, 5, 6, 7], [9], [2, 5, 6, 7], [2, 3, 7, 8], [1, 2, 3, 6, 7, 8], [1, 2, 3, 6, 8], [4], [2, 5, 7], [2, 3, 5, 7]]]')\n",
        "assert_equal(sd, sdd)\n"
      ],
      "execution_count": null,
      "outputs": [
        {
          "output_type": "stream",
          "text": [
            "+---+---+---+\n",
            "|534|678|912|\n",
            "|672|195|348|\n",
            "|198|342|567|\n",
            "+---+---+---+\n",
            "|859|761|423|\n",
            "|426|853|791|\n",
            "|713|924|856|\n",
            "+---+---+---+\n",
            "|961|537|284|\n",
            "|287|419|635|\n",
            "|345|286|179|\n",
            "+---+---+---+\n",
            "+---+---+---+\n",
            "|8..|...|...|\n",
            "|..3|6..|...|\n",
            "|.7.|.9.|2..|\n",
            "+---+---+---+\n",
            "|.5.|..7|...|\n",
            "|...|.45|7..|\n",
            "|...|1..|.3.|\n",
            "+---+---+---+\n",
            "|..1|...|.68|\n",
            "|..8|5..|.1.|\n",
            "|.9.|...|4..|\n",
            "+---+---+---+\n"
          ],
          "name": "stdout"
        }
      ]
    },
    {
      "cell_type": "markdown",
      "metadata": {
        "deletable": false,
        "editable": false,
        "nbgrader": {
          "cell_type": "markdown",
          "checksum": "3c9a4fb7a6bd86b3db484b7292a28a07",
          "grade": false,
          "grade_id": "cell-5c31b493c03d9108",
          "locked": true,
          "schema_version": 3,
          "solution": false,
          "task": false
        },
        "id": "rAfFfX0_c5Wx"
      },
      "source": [
        "For the above puzzle that can't be solved with propagation alone, you can solve it using the search algorithm shown in lecture -- feel free to try it on your own!"
      ]
    }
  ]
}